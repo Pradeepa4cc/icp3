{
 "cells": [
  {
   "cell_type": "code",
   "execution_count": 5,
   "id": "284aacca",
   "metadata": {},
   "outputs": [
    {
     "name": "stdout",
     "output_type": "stream",
     "text": [
      "22333.333333333332\n",
      "32666.666666666668\n",
      "14000.0\n"
     ]
    }
   ],
   "source": [
    "class Employee:\n",
    "    count = 0\n",
    "    def __init__(self, name, family, salary, department):\n",
    "        self.name = name\n",
    "        self.family = family\n",
    "        self.salary = salary\n",
    "        self.department = department\n",
    "        Employee.count += 1\n",
    "    def averageSalary(self):\n",
    "        avg = self.salary / Employee.count\n",
    "        return avg\n",
    "\n",
    "class FulltimeEmployee(Employee):\n",
    "    def _init_(self, name, family, salary, department):\n",
    "        Employee._init_(self, name, family, salary, department)\n",
    "\n",
    "q1 = Employee(\"jack\", \"max\", 7000, \"Sales\")\n",
    "q2 = Employee(\"tom\", \"sam\", 9000, \"IT\")\n",
    "q3 = FulltimeEmployee(\"maxy\", \"Smith\", 42000, \"HR\")\n",
    "\n",
    "print(q1.averageSalary())\n",
    "print(q2.averageSalary())\n",
    "print(q3.averageSalary())"
   ]
  },
  {
   "cell_type": "code",
   "execution_count": 6,
   "id": "0ba55fee",
   "metadata": {},
   "outputs": [
    {
     "name": "stdout",
     "output_type": "stream",
     "text": [
      "The original vector: [18.4462977   3.48359599  9.45578388 13.99324638  7.4703874  15.43845327\n",
      " 17.43460715  7.25398857  7.92268322 19.45104836 17.27463045 15.1765132\n",
      " 11.90797758 19.17681162 13.25708367 19.08350216  7.37498709 13.90063629\n",
      " 14.37798072 17.77308451]\n",
      "The reshaped vector before replace:  [[18.4462977   3.48359599  9.45578388 13.99324638  7.4703874 ]\n",
      " [15.43845327 17.43460715  7.25398857  7.92268322 19.45104836]\n",
      " [17.27463045 15.1765132  11.90797758 19.17681162 13.25708367]\n",
      " [19.08350216  7.37498709 13.90063629 14.37798072 17.77308451]]\n",
      "The reshaped vector after replace:  [[ 0.          3.48359599  9.45578388 13.99324638  7.4703874 ]\n",
      " [15.43845327 17.43460715  7.25398857  7.92268322  0.        ]\n",
      " [17.27463045 15.1765132  11.90797758  0.         13.25708367]\n",
      " [ 0.          7.37498709 13.90063629 14.37798072 17.77308451]]\n"
     ]
    }
   ],
   "source": [
    "import numpy as np\n",
    "\n",
    "# random vector of size 20 with float in the range 1-20\n",
    "vector = np.random.uniform(1,20,20)\n",
    "print(\"The original vector:\" ,vector)\n",
    "\n",
    "# reshape vector to 4 by 5\n",
    "vector_reshaped = vector.reshape(4,5)\n",
    "print(\"The reshaped vector before replace: \", vector_reshaped)\n",
    "\n",
    "# replace max in each row by 0\n",
    "vector_reshaped[np.arange(4),vector_reshaped.argmax(axis=1)] = 0\n",
    "print(\"The reshaped vector after replace: \" ,vector_reshaped)"
   ]
  },
  {
   "cell_type": "code",
   "execution_count": null,
   "id": "7705b92a",
   "metadata": {},
   "outputs": [],
   "source": []
  }
 ],
 "metadata": {
  "kernelspec": {
   "display_name": "Python 3 (ipykernel)",
   "language": "python",
   "name": "python3"
  },
  "language_info": {
   "codemirror_mode": {
    "name": "ipython",
    "version": 3
   },
   "file_extension": ".py",
   "mimetype": "text/x-python",
   "name": "python",
   "nbconvert_exporter": "python",
   "pygments_lexer": "ipython3",
   "version": "3.9.7"
  }
 },
 "nbformat": 4,
 "nbformat_minor": 5
}
