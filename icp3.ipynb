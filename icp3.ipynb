{
 "cells": [
  {
   "cell_type": "code",
   "execution_count": null,
   "id": "d92c36ca",
   "metadata": {},
   "outputs": [],
   "source": []
  },
  {
   "cell_type": "code",
   "execution_count": 23,
   "id": "95adf4f6",
   "metadata": {},
   "outputs": [
    {
     "name": "stdout",
     "output_type": "stream",
     "text": [
      "The original vector: [10.27383959  5.21896109 18.883563   15.46148727  8.52052664  9.47560874\n",
      "  1.64838948 17.52199966 18.97490927  5.73678215 10.41700893 17.69003716\n",
      " 18.78257513 19.22211409  1.45921782 19.16522296 18.52275716  7.20326935\n",
      " 10.42568929  3.49345342]\n",
      "The reshaped vector before replace:  [[10.27383959  5.21896109 18.883563   15.46148727  8.52052664]\n",
      " [ 9.47560874  1.64838948 17.52199966 18.97490927  5.73678215]\n",
      " [10.41700893 17.69003716 18.78257513 19.22211409  1.45921782]\n",
      " [19.16522296 18.52275716  7.20326935 10.42568929  3.49345342]]\n",
      "The reshaped vector after replace:  [[10.27383959  5.21896109  0.         15.46148727  8.52052664]\n",
      " [ 9.47560874  1.64838948 17.52199966  0.          5.73678215]\n",
      " [10.41700893 17.69003716 18.78257513  0.          1.45921782]\n",
      " [ 0.         18.52275716  7.20326935 10.42568929  3.49345342]]\n"
     ]
    }
   ],
   "source": [
    "import numpy as pd\n",
    "\n",
    "# random vector of size 20 with float in the range 1-20\n",
    "\n",
    "vector = pd.random.uniform(1,20,20)\n",
    "print(\"The original vector:\" ,vector)\n",
    "\n",
    "# reshape vector to 4 by 5\n",
    "\n",
    "vector_reshaped = vector.reshape(4,5)\n",
    "print(\"The reshaped vector before replace: \", vector_reshaped)\n",
    "\n",
    "# replace max in each row by 0\n",
    "\n",
    "vector_reshaped[pd.arange(4),vector_reshaped.argmax(axis=1)] = 0\n",
    "print(\"The reshaped vector after replace: \" ,vector_reshaped)\n"
   ]
  },
  {
   "cell_type": "code",
   "execution_count": 22,
   "id": "407d77e4",
   "metadata": {},
   "outputs": [
    {
     "name": "stdout",
     "output_type": "stream",
     "text": [
      "666.6666666666666\n",
      "2000.0\n",
      "666.6666666666666\n"
     ]
    }
   ],
   "source": [
    "class Employee:\n",
    "    count = 0\n",
    "    def __init__(self, name, family, salary, department):\n",
    "        self.name = name\n",
    "        self.family = family\n",
    "        self.salary = salary\n",
    "        self.department = department\n",
    "        Employee.count += 1\n",
    "    def averageSalary(self):\n",
    "        avg = self.salary / Employee.count\n",
    "        return avg\n",
    "\n",
    "class FulltimeEmployee(Employee):\n",
    "    def __init__(self, name, family, salary, department):\n",
    "        Employee.__init__(self, name, family, salary, department)\n",
    "\n",
    "q1 = Employee(\"rajesh\", \"pradeep\", 2000, \"hr\")\n",
    "q2 = Employee(\"sunny\", \"srujith\", 6000, \"it\")\n",
    "q3 = FulltimeEmployee(\"david\", \"sams\", 2000, \"Manager\")\n",
    "\n",
    "print(q1.averageSalary())\n",
    "print(q2.averageSalary())\n",
    "print(q3.averageSalary())"
   ]
  },
  {
   "cell_type": "code",
   "execution_count": null,
   "id": "b409bfca",
   "metadata": {},
   "outputs": [],
   "source": []
  }
 ],
 "metadata": {
  "kernelspec": {
   "display_name": "Python 3 (ipykernel)",
   "language": "python",
   "name": "python3"
  },
  "language_info": {
   "codemirror_mode": {
    "name": "ipython",
    "version": 3
   },
   "file_extension": ".py",
   "mimetype": "text/x-python",
   "name": "python",
   "nbconvert_exporter": "python",
   "pygments_lexer": "ipython3",
   "version": "3.9.12"
  }
 },
 "nbformat": 4,
 "nbformat_minor": 5
}
